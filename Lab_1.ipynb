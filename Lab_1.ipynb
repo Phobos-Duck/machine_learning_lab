{
 "cells": [
  {
   "cell_type": "code",
   "execution_count": 1,
   "id": "922f18cf-6317-4896-b46b-7538c71dd8d8",
   "metadata": {},
   "outputs": [
    {
     "name": "stdout",
     "output_type": "stream",
     "text": [
      "   First Name  Gender  Start Date Last Login Time  Salary  Bonus %  \\\n",
      "0     Douglas    Male    8/6/1993        12:42 PM   97308    6.945   \n",
      "1      Thomas    Male   3/31/1996         6:53 AM   61933    4.170   \n",
      "2       Maria  Female   4/23/1993        11:17 AM  130590   11.858   \n",
      "3       Jerry    Male    3/4/2005         1:00 PM  138705    9.340   \n",
      "4       Larry    Male   1/24/1998         4:47 PM  101004    1.389   \n",
      "5      Dennis    Male   4/18/1987         1:35 AM  115163   10.125   \n",
      "6        Ruby  Female   8/17/1987         4:20 PM   65476   10.012   \n",
      "7         NaN  Female   7/20/2015        10:43 AM   45906   11.598   \n",
      "8      Angela  Female  11/22/2005         6:29 AM   95570   18.523   \n",
      "9     Frances  Female    8/8/2002         6:51 AM  139852    7.524   \n",
      "10     Louise  Female   8/12/1980         9:01 AM   63241   15.132   \n",
      "11      Julie  Female  10/26/1997         3:19 PM  102508   12.637   \n",
      "\n",
      "   Senior Management                  Team  \n",
      "0               True             Marketing  \n",
      "1               True                   NaN  \n",
      "2              False               Finance  \n",
      "3               True               Finance  \n",
      "4               True       Client Services  \n",
      "5              False                 Legal  \n",
      "6               True               Product  \n",
      "7                NaN               Finance  \n",
      "8               True           Engineering  \n",
      "9               True  Business Development  \n",
      "10              True                   NaN  \n",
      "11              True                 Legal  \n"
     ]
    }
   ],
   "source": [
    "import pandas as pn\n",
    "import numpy as np\n",
    "\n",
    "df = pn.read_csv(\"employees.csv\")\n",
    "print(df.head(12))"
   ]
  },
  {
   "cell_type": "code",
   "execution_count": 2,
   "id": "f525ec65-2298-4d0f-a9fa-07e4edd5476c",
   "metadata": {},
   "outputs": [
    {
     "name": "stdout",
     "output_type": "stream",
     "text": [
      "<class 'pandas.core.frame.DataFrame'>\n",
      "RangeIndex: 1000 entries, 0 to 999\n",
      "Data columns (total 8 columns):\n",
      " #   Column             Non-Null Count  Dtype  \n",
      "---  ------             --------------  -----  \n",
      " 0   First Name         933 non-null    object \n",
      " 1   Gender             855 non-null    object \n",
      " 2   Start Date         1000 non-null   object \n",
      " 3   Last Login Time    1000 non-null   object \n",
      " 4   Salary             1000 non-null   int64  \n",
      " 5   Bonus %            1000 non-null   float64\n",
      " 6   Senior Management  933 non-null    object \n",
      " 7   Team               957 non-null    object \n",
      "dtypes: float64(1), int64(1), object(6)\n",
      "memory usage: 62.6+ KB\n"
     ]
    }
   ],
   "source": [
    "df.info()"
   ]
  },
  {
   "cell_type": "code",
   "execution_count": 3,
   "id": "7062b149-c1f5-4e30-8800-d434827c6b59",
   "metadata": {},
   "outputs": [
    {
     "name": "stdout",
     "output_type": "stream",
     "text": [
      "Empty DataFrame\n",
      "Columns: [First Name, Gender, Start Date, Last Login Time, Salary, Bonus %, Senior Management, Team]\n",
      "Index: []\n"
     ]
    }
   ],
   "source": [
    "duplicate = df[df.duplicated()]\n",
    "print(duplicate)"
   ]
  },
  {
   "cell_type": "code",
   "execution_count": 4,
   "id": "16fee24a-3f5f-43b1-a677-3731de82095a",
   "metadata": {},
   "outputs": [
    {
     "name": "stdout",
     "output_type": "stream",
     "text": [
      "First Name            67\n",
      "Gender               145\n",
      "Start Date             0\n",
      "Last Login Time        0\n",
      "Salary                 0\n",
      "Bonus %                0\n",
      "Senior Management     67\n",
      "Team                  43\n",
      "dtype: int64\n"
     ]
    }
   ],
   "source": [
    "print(df.isnull().sum())"
   ]
  },
  {
   "cell_type": "code",
   "execution_count": 5,
   "id": "8d065f47-110b-470e-8c23-34ffda63079c",
   "metadata": {},
   "outputs": [],
   "source": [
    "#First Name - удалим пропуски во избежании ошибок в будущем. \n",
    "df = df.dropna(subset=[\"First Name\"]).copy()"
   ]
  },
  {
   "cell_type": "code",
   "execution_count": 6,
   "id": "8aaf062b-d1c6-4c12-97eb-d2aeacdde700",
   "metadata": {},
   "outputs": [],
   "source": [
    "#Gender оставшиеся пропуски заполним значениями unknowm\n",
    "df[\"Gender\"] = df[\"Gender\"].fillna(\"Unknown\")"
   ]
  },
  {
   "cell_type": "code",
   "execution_count": 8,
   "id": "efc4108c-4ad2-45cb-b954-995bd3e46912",
   "metadata": {},
   "outputs": [],
   "source": [
    "#Senior Management заполним случайными значениями True/False, уже опираясь на занесенные данные. \n",
    "sm_probs = df[\"Senior Management\"].value_counts(normalize=True)\n",
    "missing_idx = df[df[\"Senior Management\"].isna()].index\n",
    "random_values = np.random.choice(sm_probs.index, size=len(missing_idx), p=sm_probs.values)\n",
    "\n",
    "df.loc[missing_idx, \"Senior Management\"] = random_values"
   ]
  },
  {
   "cell_type": "code",
   "execution_count": 9,
   "id": "a4ab98f8-68ed-4ca2-838f-119948df08ca",
   "metadata": {},
   "outputs": [],
   "source": [
    "#Team заполним случайными значениями, уже опираясь на занесенные данные. \n",
    "team_probs = df[\"Team\"].value_counts(normalize=True)\n",
    "missing_idx = df[df[\"Team\"].isna()].index\n",
    "random_teams = np.random.choice(team_probs.index, size=len(missing_idx), p=team_probs.values)\n",
    "\n",
    "df.loc[missing_idx, \"Team\"] = random_teams"
   ]
  },
  {
   "cell_type": "code",
   "execution_count": 10,
   "id": "a64dd9b2-1c9b-43fb-a550-dfaecd451b0f",
   "metadata": {},
   "outputs": [
    {
     "name": "stdout",
     "output_type": "stream",
     "text": [
      "First Name           0\n",
      "Gender               0\n",
      "Start Date           0\n",
      "Last Login Time      0\n",
      "Salary               0\n",
      "Bonus %              0\n",
      "Senior Management    0\n",
      "Team                 0\n",
      "dtype: int64\n"
     ]
    }
   ],
   "source": [
    "print(df.isnull().sum())"
   ]
  },
  {
   "cell_type": "code",
   "execution_count": 11,
   "id": "13d39839-9075-492f-952c-c45fce1a22cf",
   "metadata": {},
   "outputs": [
    {
     "data": {
      "text/plain": [
       "count    933.000000\n",
       "mean      10.225737\n",
       "std        5.549542\n",
       "min        1.015000\n",
       "25%        5.359000\n",
       "50%        9.849000\n",
       "75%       14.879000\n",
       "max       19.944000\n",
       "Name: Bonus %, dtype: float64"
      ]
     },
     "execution_count": 11,
     "metadata": {},
     "output_type": "execute_result"
    }
   ],
   "source": [
    "df[\"Bonus %\"].describe()"
   ]
  },
  {
   "cell_type": "code",
   "execution_count": 12,
   "id": "73915a6e-a5c6-491c-aa53-85c6778f6906",
   "metadata": {},
   "outputs": [
    {
     "data": {
      "text/plain": [
       "Index([  0,   1,   2,   3,   4,   5,   6,   8,   9,  10,\n",
       "       ...\n",
       "       990, 991, 992, 993, 994, 995, 996, 997, 998, 999],\n",
       "      dtype='int64', length=933)"
      ]
     },
     "execution_count": 12,
     "metadata": {},
     "output_type": "execute_result"
    }
   ],
   "source": [
    "df.index"
   ]
  },
  {
   "cell_type": "markdown",
   "id": "0fea594a-b873-4bea-bacb-b85ddb81090e",
   "metadata": {},
   "source": [
    "df[\"Start Date\"] = pn.to_datetime(df[\"Start Date\"])\n",
    "veterans = df[df[\"Gender\"] == \"Male\"].sort_values(\"Start Date\").head()\n",
    "veterans"
   ]
  },
  {
   "cell_type": "code",
   "execution_count": 16,
   "id": "976cf8ed-0ee7-426c-9007-9b96b6cd8cf6",
   "metadata": {},
   "outputs": [
    {
     "data": {
      "text/plain": [
       "First Name                          Aaron\n",
       "Gender                               Male\n",
       "Start Date            1980-01-19 00:00:00\n",
       "Last Login Time                  10:00 AM\n",
       "Salary                              35013\n",
       "Bonus %                             1.015\n",
       "Senior Management                   False\n",
       "Team                 Business Development\n",
       "dtype: object"
      ]
     },
     "execution_count": 16,
     "metadata": {},
     "output_type": "execute_result"
    }
   ],
   "source": [
    "df[\"Start Date\"] = pn.to_datetime(df[\"Start Date\"])\n",
    "veterans = df[df[\"Gender\"] == \"Male\"].sort_values(\"Start Date\").min()\n",
    "veterans"
   ]
  },
  {
   "cell_type": "code",
   "execution_count": 17,
   "id": "4b497307-43f2-49d3-b6f7-8a387dd498b4",
   "metadata": {},
   "outputs": [
    {
     "name": "stdout",
     "output_type": "stream",
     "text": [
      "    First Name   Gender Start Date Last Login Time  Salary  Bonus %  \\\n",
      "644  Katherine   Female 1996-08-13        12:21 AM  149908   18.912   \n",
      "429       Rose   Female 2015-05-28         8:40 AM  149903    5.630   \n",
      "828    Cynthia   Female 2006-07-12         8:55 AM  149684    7.864   \n",
      "160      Kathy   Female 2000-03-18         7:26 PM  149563   16.991   \n",
      "740    Russell  Unknown 2009-05-09        11:59 AM  149456    3.533   \n",
      "\n",
      "    Senior Management             Team  \n",
      "644             False          Finance  \n",
      "429             False  Human Resources  \n",
      "828             False          Product  \n",
      "160              True          Finance  \n",
      "740             False        Marketing  \n"
     ]
    }
   ],
   "source": [
    "top_salary = df.sort_values(\"Salary\", ascending=False).head(5)\n",
    "print(top_salary)"
   ]
  },
  {
   "cell_type": "code",
   "execution_count": 18,
   "id": "168a3ca6-261c-4f51-92f8-9cf762bd2d12",
   "metadata": {},
   "outputs": [
    {
     "name": "stdout",
     "output_type": "stream",
     "text": [
      "Jeremy\n",
      "Marilyn\n"
     ]
    }
   ],
   "source": [
    "most_common_male = df[df[\"Gender\"] == \"Male\"][\"First Name\"].mode()[0]\n",
    "most_common_female = df[df[\"Gender\"] == \"Female\"][\"First Name\"].mode()[0]\n",
    "\n",
    "print(most_common_male)\n",
    "print(most_common_female)"
   ]
  },
  {
   "cell_type": "code",
   "execution_count": 19,
   "id": "dec710ad-c905-4b4a-a721-1cde214b0d3e",
   "metadata": {},
   "outputs": [
    {
     "name": "stdout",
     "output_type": "stream",
     "text": [
      "50.160771704180064\n"
     ]
    }
   ],
   "source": [
    "senior_pct = (df[\"Senior Management\"].sum() / len(df)) * 100\n",
    "print(senior_pct)"
   ]
  },
  {
   "cell_type": "code",
   "execution_count": 20,
   "id": "0f50074a-8319-4475-8504-2d30e151440d",
   "metadata": {},
   "outputs": [
    {
     "name": "stdout",
     "output_type": "stream",
     "text": [
      "    First Name   Gender Start Date     Last Login Time  Salary  Bonus %  \\\n",
      "792       Anne  Unknown 1996-04-18 2025-10-19 23:57:00  122762    9.564   \n",
      "66       Nancy   Female 2012-12-15 2025-10-19 23:57:00  125250    2.672   \n",
      "930      Nancy   Female 2001-09-10 2025-10-19 23:57:00   85213    2.386   \n",
      "349    Phyllis   Female 2005-11-24 2025-10-19 23:57:00  140347    8.723   \n",
      "241     Walter     Male 1983-07-06 2025-10-19 23:54:00  127813    5.961   \n",
      "\n",
      "    Senior Management                  Team  \n",
      "792             False          Distribution  \n",
      "66               True  Business Development  \n",
      "930              True             Marketing  \n",
      "349             False                 Sales  \n",
      "241             False               Finance  \n"
     ]
    },
    {
     "name": "stderr",
     "output_type": "stream",
     "text": [
      "E:\\Users\\sine\\AppData\\Local\\Temp\\ipykernel_19592\\1556157158.py:1: UserWarning: Could not infer format, so each element will be parsed individually, falling back to `dateutil`. To ensure parsing is consistent and as-expected, please specify a format.\n",
      "  df[\"Last Login Time\"] = pn.to_datetime(df[\"Last Login Time\"])\n"
     ]
    }
   ],
   "source": [
    "df[\"Last Login Time\"] = pn.to_datetime(df[\"Last Login Time\"])\n",
    "latest_logins = df.sort_values(\"Last Login Time\", ascending=False).head(5)\n",
    "print(latest_logins)"
   ]
  },
  {
   "cell_type": "code",
   "execution_count": 22,
   "id": "e08cbca4-6c57-41f2-ad7d-9004260a1387",
   "metadata": {},
   "outputs": [
    {
     "data": {
      "text/html": [
       "<div>\n",
       "<style scoped>\n",
       "    .dataframe tbody tr th:only-of-type {\n",
       "        vertical-align: middle;\n",
       "    }\n",
       "\n",
       "    .dataframe tbody tr th {\n",
       "        vertical-align: top;\n",
       "    }\n",
       "\n",
       "    .dataframe thead th {\n",
       "        text-align: right;\n",
       "    }\n",
       "</style>\n",
       "<table border=\"1\" class=\"dataframe\">\n",
       "  <thead>\n",
       "    <tr style=\"text-align: right;\">\n",
       "      <th></th>\n",
       "      <th>Salary</th>\n",
       "      <th>Bonus %</th>\n",
       "    </tr>\n",
       "    <tr>\n",
       "      <th>Gender</th>\n",
       "      <th></th>\n",
       "      <th></th>\n",
       "    </tr>\n",
       "  </thead>\n",
       "  <tbody>\n",
       "    <tr>\n",
       "      <th>Female</th>\n",
       "      <td>89605.732500</td>\n",
       "      <td>10.002937</td>\n",
       "    </tr>\n",
       "    <tr>\n",
       "      <th>Male</th>\n",
       "      <td>90738.873418</td>\n",
       "      <td>10.379987</td>\n",
       "    </tr>\n",
       "    <tr>\n",
       "      <th>Unknown</th>\n",
       "      <td>90980.427536</td>\n",
       "      <td>10.430022</td>\n",
       "    </tr>\n",
       "  </tbody>\n",
       "</table>\n",
       "</div>"
      ],
      "text/plain": [
       "               Salary    Bonus %\n",
       "Gender                          \n",
       "Female   89605.732500  10.002937\n",
       "Male     90738.873418  10.379987\n",
       "Unknown  90980.427536  10.430022"
      ]
     },
     "execution_count": 22,
     "metadata": {},
     "output_type": "execute_result"
    }
   ],
   "source": [
    "gender_stats = df.groupby(\"Gender\")[[\"Salary\", \"Bonus %\"]].mean()\n",
    "gender_stats"
   ]
  },
  {
   "cell_type": "code",
   "execution_count": 23,
   "id": "499e8d76-e624-48ec-ac58-93d4b8b057c3",
   "metadata": {},
   "outputs": [
    {
     "data": {
      "text/plain": [
       "'Business Development'"
      ]
     },
     "execution_count": 23,
     "metadata": {},
     "output_type": "execute_result"
    }
   ],
   "source": [
    "top_women_team = df[df[\"Gender\"] == \"Female\"][\"Team\"].mode()[0]\n",
    "top_women_team"
   ]
  },
  {
   "cell_type": "code",
   "execution_count": 25,
   "id": "734a55fe-9f59-4f35-bea7-0f02fa9c5e20",
   "metadata": {},
   "outputs": [
    {
     "name": "stdout",
     "output_type": "stream",
     "text": [
      "90288.79635584138\n",
      "10.225737406216506\n"
     ]
    }
   ],
   "source": [
    "avg_salary = df[\"Salary\"].mean() #Cредняя зп\n",
    "avg_bonus = df[\"Bonus %\"].mean() #Средний бонус\n",
    "\n",
    "print(avg_salary)\n",
    "print(avg_bonus)"
   ]
  },
  {
   "cell_type": "code",
   "execution_count": null,
   "id": "7deb3ec0-e6e1-4681-9b74-862470b2ebb8",
   "metadata": {},
   "outputs": [],
   "source": []
  }
 ],
 "metadata": {
  "kernelspec": {
   "display_name": "Python [conda env:base] *",
   "language": "python",
   "name": "conda-base-py"
  },
  "language_info": {
   "codemirror_mode": {
    "name": "ipython",
    "version": 3
   },
   "file_extension": ".py",
   "mimetype": "text/x-python",
   "name": "python",
   "nbconvert_exporter": "python",
   "pygments_lexer": "ipython3",
   "version": "3.13.5"
  }
 },
 "nbformat": 4,
 "nbformat_minor": 5
}
